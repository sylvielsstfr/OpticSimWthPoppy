{
 "cells": [
  {
   "cell_type": "markdown",
   "metadata": {
    "deletable": true,
    "editable": true
   },
   "source": [
    "# Make the fits file for the Ronchi Grating\n",
    "============================================================\n",
    "\n",
    "- author : Sylvie Dagoret-Campagne\n",
    "- affiliation : LAL/CNRS\n",
    "- date March 19th 2017"
   ]
  },
  {
   "cell_type": "code",
   "execution_count": 1,
   "metadata": {
    "collapsed": true,
    "deletable": true,
    "editable": true
   },
   "outputs": [],
   "source": [
    "%matplotlib inline\n",
    "import matplotlib.pyplot as plt\n",
    "import numpy as np\n",
    "import os\n",
    "import matplotlib as mpl\n",
    "from astropy.io import fits"
   ]
  },
  {
   "cell_type": "code",
   "execution_count": 2,
   "metadata": {
    "collapsed": true
   },
   "outputs": [],
   "source": [
    "from datetime import datetime, timedelta"
   ]
  },
  {
   "cell_type": "code",
   "execution_count": 3,
   "metadata": {
    "collapsed": true,
    "deletable": true,
    "editable": true
   },
   "outputs": [],
   "source": [
    "# to enlarge the sizes\n",
    "params = {'legend.fontsize': 'x-large',\n",
    "          'figure.figsize': (8, 8),\n",
    "         'axes.labelsize': 'x-large',\n",
    "         'axes.titlesize':'x-large',\n",
    "         'xtick.labelsize':'x-large',\n",
    "         'ytick.labelsize':'x-large'}\n",
    "plt.rcParams.update(params)"
   ]
  },
  {
   "cell_type": "code",
   "execution_count": 4,
   "metadata": {
    "collapsed": false,
    "deletable": true,
    "editable": true
   },
   "outputs": [
    {
     "name": "stdout",
     "output_type": "stream",
     "text": [
      "Populating the interactive namespace from numpy and matplotlib\n"
     ]
    },
    {
     "data": {
      "text/plain": [
       "u'0.5.1'"
      ]
     },
     "execution_count": 4,
     "metadata": {},
     "output_type": "execute_result"
    }
   ],
   "source": [
    "import poppy\n",
    "%pylab inline --no-import-all\n",
    "matplotlib.rcParams['image.origin'] = 'large'\n",
    "poppy.__version__"
   ]
  },
  {
   "cell_type": "code",
   "execution_count": 5,
   "metadata": {
    "collapsed": false
   },
   "outputs": [
    {
     "name": "stdout",
     "output_type": "stream",
     "text": [
      "standard date format for the analysis : 2017-03-19 19:33:09.241134\n",
      "fits date format for the analysis :  2017-03-19T19:33:09\n"
     ]
    }
   ],
   "source": [
    "now=datetime.utcnow()  # choose UTC time\n",
    "datestr=str(now)\n",
    "print 'standard date format for the analysis :',datestr\n",
    "#  want the following format '2016-05-10T11:55:27.267'\n",
    "date_of_analysis=now.strftime('%Y-%m-%dT%H:%M:%S')\n",
    "print 'fits date format for the analysis : ',date_of_analysis"
   ]
  },
  {
   "cell_type": "code",
   "execution_count": 6,
   "metadata": {
    "collapsed": false,
    "deletable": true,
    "editable": true
   },
   "outputs": [
    {
     "name": "stderr",
     "output_type": "stream",
     "text": [
      "WARNING: AstropyDeprecationWarning: \"clobber\" was deprecated in version 1.3 and will be removed in a future version. Use argument \"overwrite\" instead. [astropy.utils.decorators]\n",
      "WARNING: VerifyWarning: Card is too long, comment will be truncated. [astropy.io.fits.card]\n"
     ]
    },
    {
     "data": {
      "text/plain": [
       "[<astropy.io.fits.hdu.image.PrimaryHDU object at 0x10bff01d0>]"
      ]
     },
     "execution_count": 6,
     "metadata": {},
     "output_type": "execute_result"
    },
    {
     "data": {
      "image/png": "[encoded data removed]",
      "text/plain": [
       "<matplotlib.figure.Figure at 0x10bff0410>"
      ]
     },
     "metadata": {},
     "output_type": "display_data"
    }
   ],
   "source": [
    "ap = poppy.CircularAperture(radius=1)      # create a simple circular aperture\n",
    "ap.display(what='both')                    # display both intensity and phase components\n",
    "\n",
    "values = ap.sample(npix=512)               # evaluate on 512 x 512 grid\n",
    "ap.to_fits('test_circle.fits', npix=1024)  # write to disk as a FITS file with higher sampling"
   ]
  },
  {
   "cell_type": "code",
   "execution_count": 7,
   "metadata": {
    "collapsed": true,
    "deletable": true,
    "editable": true
   },
   "outputs": [],
   "source": [
    "hdulist = fits.open('test_circle.fits')"
   ]
  },
  {
   "cell_type": "code",
   "execution_count": 8,
   "metadata": {
    "collapsed": false,
    "deletable": true,
    "editable": true
   },
   "outputs": [
    {
     "data": {
      "text/plain": [
       "SIMPLE  =                    T / conforms to FITS standard                      \n",
       "BITPIX  =                  -64 / array data type                                \n",
       "NAXIS   =                    2 / number of array dimensions                     \n",
       "NAXIS1  =                 1024                                                  \n",
       "NAXIS2  =                 1024                                                  \n",
       "EXTEND  =                    T                                                  \n",
       "OPTIC   = 'Circle, radius=1.0 m' / Descriptive name of this optic               \n",
       "NAME    = 'Circle, radius=1.0 m'                                                \n",
       "SOURCE  = 'Computed with POPPY'                                                 \n",
       "VERSION = '0.5.1   '           / software version of POPPY                      \n",
       "CONTENTS= 'amplitude'                                                           \n",
       "PLANETYP=                    0 / 0=unspecified, 1=pupil, 2=image, 3=detector, 4=\n",
       "PUPLSCAL=          0.001953125 / Pupil plane pixel scale in meter/pix           "
      ]
     },
     "execution_count": 8,
     "metadata": {},
     "output_type": "execute_result"
    }
   ],
   "source": [
    "hdulist[0].header"
   ]
  },
  {
   "cell_type": "code",
   "execution_count": 9,
   "metadata": {
    "collapsed": false,
    "deletable": true,
    "editable": true
   },
   "outputs": [
    {
     "data": {
      "text/plain": [
       "<matplotlib.image.AxesImage at 0x10cee6d50>"
      ]
     },
     "execution_count": 9,
     "metadata": {},
     "output_type": "execute_result"
    },
    {
     "data": {
      "image/png": "[encoded data removed]",
      "text/plain": [
       "<matplotlib.figure.Figure at 0x10e05bd50>"
      ]
     },
     "metadata": {},
     "output_type": "display_data"
    }
   ],
   "source": [
    "plt.imshow(hdulist[0].data,cmap=\"Greys\")"
   ]
  },
  {
   "cell_type": "markdown",
   "metadata": {
    "deletable": true,
    "editable": true
   },
   "source": [
    "# Constants"
   ]
  },
  {
   "cell_type": "code",
   "execution_count": 10,
   "metadata": {
    "collapsed": true,
    "deletable": true,
    "editable": true
   },
   "outputs": [],
   "source": [
    "mm_to_m=1e-3\n",
    "inch_to_mm=25.4"
   ]
  },
  {
   "cell_type": "code",
   "execution_count": 11,
   "metadata": {
    "collapsed": true,
    "deletable": true,
    "editable": true
   },
   "outputs": [],
   "source": [
    "R200=200. # 200 lines per mm"
   ]
  },
  {
   "cell_type": "code",
   "execution_count": 12,
   "metadata": {
    "collapsed": true,
    "deletable": true,
    "editable": true
   },
   "outputs": [],
   "source": [
    "grating_size=5 # mm\n",
    "#grating_size=2*inch_to_mm # mm Kernel dead"
   ]
  },
  {
   "cell_type": "code",
   "execution_count": 13,
   "metadata": {
    "collapsed": true,
    "deletable": true,
    "editable": true
   },
   "outputs": [],
   "source": [
    "a=1./R200  # in mm : pad line-to line distance 5 microns"
   ]
  },
  {
   "cell_type": "code",
   "execution_count": 14,
   "metadata": {
    "collapsed": true,
    "deletable": true,
    "editable": true
   },
   "outputs": [],
   "source": [
    "b=a/2  # width of grooves : 2.5 microns"
   ]
  },
  {
   "cell_type": "code",
   "execution_count": 15,
   "metadata": {
    "collapsed": true,
    "deletable": true,
    "editable": true
   },
   "outputs": [],
   "source": [
    "Nlines=R200*grating_size  # 800 lines in beam"
   ]
  },
  {
   "cell_type": "code",
   "execution_count": null,
   "metadata": {
    "collapsed": false
   },
   "outputs": [],
   "source": []
  },
  {
   "cell_type": "markdown",
   "metadata": {},
   "source": [
    "# Generate a small transmission and opd"
   ]
  },
  {
   "cell_type": "code",
   "execution_count": 16,
   "metadata": {
    "collapsed": false,
    "deletable": true,
    "editable": true
   },
   "outputs": [],
   "source": [
    "ARRAY_SIZE=int(Nlines*2)"
   ]
  },
  {
   "cell_type": "code",
   "execution_count": 17,
   "metadata": {
    "collapsed": false,
    "deletable": true,
    "editable": true
   },
   "outputs": [],
   "source": [
    "transmission=np.zeros([ARRAY_SIZE,ARRAY_SIZE])\n",
    "opd=np.zeros([ARRAY_SIZE,ARRAY_SIZE])"
   ]
  },
  {
   "cell_type": "code",
   "execution_count": 18,
   "metadata": {
    "collapsed": true,
    "deletable": true,
    "editable": true
   },
   "outputs": [],
   "source": [
    "even_indexes=all_indexes=np.arange(ARRAY_SIZE)"
   ]
  },
  {
   "cell_type": "code",
   "execution_count": 19,
   "metadata": {
    "collapsed": false,
    "deletable": true,
    "editable": true
   },
   "outputs": [],
   "source": [
    "even_indexes=np.where(all_indexes%2==0)"
   ]
  },
  {
   "cell_type": "code",
   "execution_count": 20,
   "metadata": {
    "collapsed": true,
    "deletable": true,
    "editable": true
   },
   "outputs": [],
   "source": [
    "odd_indexes=np.where(all_indexes%2==1)"
   ]
  },
  {
   "cell_type": "code",
   "execution_count": 21,
   "metadata": {
    "collapsed": true,
    "deletable": true,
    "editable": true
   },
   "outputs": [],
   "source": [
    "transmission[:,even_indexes]=1\n",
    "transmission[:,odd_indexes]=0"
   ]
  },
  {
   "cell_type": "code",
   "execution_count": 22,
   "metadata": {
    "collapsed": false,
    "deletable": true,
    "editable": true
   },
   "outputs": [
    {
     "data": {
      "text/plain": [
       "<matplotlib.image.AxesImage at 0x10c1931d0>"
      ]
     },
     "execution_count": 22,
     "metadata": {},
     "output_type": "execute_result"
    },
    {
     "data": {
      "image/png": "[encoded data removed]",
      "text/plain": [
       "<matplotlib.figure.Figure at 0x10cea6290>"
      ]
     },
     "metadata": {},
     "output_type": "display_data"
    }
   ],
   "source": [
    "plt.imshow(transmission,cmap=\"Greys\")"
   ]
  },
  {
   "cell_type": "code",
   "execution_count": 23,
   "metadata": {
    "collapsed": false,
    "deletable": true,
    "editable": true
   },
   "outputs": [
    {
     "data": {
      "text/plain": [
       "<matplotlib.image.AxesImage at 0x10c28b5d0>"
      ]
     },
     "execution_count": 23,
     "metadata": {},
     "output_type": "execute_result"
    },
    {
     "data": {
      "image/png": "[encoded data removed]",
      "text/plain": [
       "<matplotlib.figure.Figure at 0x105f5d150>"
      ]
     },
     "metadata": {},
     "output_type": "display_data"
    }
   ],
   "source": [
    "plt.imshow(opd,cmap=\"Greys\")"
   ]
  },
  {
   "cell_type": "code",
   "execution_count": 24,
   "metadata": {
    "collapsed": true,
    "deletable": true,
    "editable": true
   },
   "outputs": [],
   "source": [
    "hdu_transmission = fits.PrimaryHDU(transmission)"
   ]
  },
  {
   "cell_type": "code",
   "execution_count": 25,
   "metadata": {
    "collapsed": false,
    "deletable": true,
    "editable": true
   },
   "outputs": [],
   "source": [
    "hdu_transmission.header[\"OPTIC\"]=\"transmission Ronchi 200\"\n",
    "hdu_transmission.header[\"NAME\"]= \"TransRonchi200\"\n",
    "hdu_transmission.header[\"SOURCE\"]= \"Sylvie Dagoret-Campagne\"\n",
    "hdu_transmission.header[\"DATE\"]= \"March 2017\"\n",
    "hdu_transmission.header[\"VERSION\"]=poppy.__version__\n",
    "hdu_transmission.header[\"CONTENTS\"]= 'transmission'                                                           \n",
    "hdu_transmission.header[\"PLANETYP\"]=1 #  1=pupil, 2=image, 3=detector, 4=\n",
    "hdu_transmission.header[\"PUPLSCAL\"]=b*mm_to_m"
   ]
  },
  {
   "cell_type": "code",
   "execution_count": 26,
   "metadata": {
    "collapsed": false,
    "deletable": true,
    "editable": true
   },
   "outputs": [
    {
     "data": {
      "text/plain": [
       "SIMPLE  =                    T / conforms to FITS standard                      \n",
       "BITPIX  =                  -64 / array data type                                \n",
       "NAXIS   =                    2 / number of array dimensions                     \n",
       "NAXIS1  =                 2000                                                  \n",
       "NAXIS2  =                 2000                                                  \n",
       "EXTEND  =                    T                                                  \n",
       "OPTIC   = 'transmission Ronchi 200'                                             \n",
       "NAME    = 'TransRonchi200'                                                      \n",
       "SOURCE  = 'Sylvie Dagoret-Campagne'                                             \n",
       "DATE    = 'March 2017'                                                          \n",
       "VERSION = '0.5.1   '                                                            \n",
       "CONTENTS= 'transmission'                                                        \n",
       "PLANETYP=                    1                                                  \n",
       "PUPLSCAL=              2.5E-06                                                  "
      ]
     },
     "execution_count": 26,
     "metadata": {},
     "output_type": "execute_result"
    }
   ],
   "source": [
    "hdu_transmission.header"
   ]
  },
  {
   "cell_type": "code",
   "execution_count": 27,
   "metadata": {
    "collapsed": true,
    "deletable": true,
    "editable": true
   },
   "outputs": [],
   "source": [
    "hdu_opd=fits.PrimaryHDU(opd)"
   ]
  },
  {
   "cell_type": "code",
   "execution_count": 28,
   "metadata": {
    "collapsed": true,
    "deletable": true,
    "editable": true
   },
   "outputs": [],
   "source": [
    "hdu_opd.header[\"OPTIC\"]=\"OPD Ronchi 200\"\n",
    "hdu_opd.header[\"NAME\"]= \"OPDRonchi200\"\n",
    "hdu_opd.header[\"SOURCE\"]= \"Sylvie Dagoret-Campagne\"\n",
    "hdu_opd.header[\"DATE\"]= \"March 2017\"\n",
    "hdu_opd.header[\"VERSION\"]=poppy.__version__\n",
    "hdu_opd.header[\"CONTENTS\"]= 'opd'    \n",
    "hdu_opd.header[\"BUNIT\"]='meter'\n",
    "hdu_opd.header[\"PLANETYP\"]=1 #  1=pupil, 2=image, 3=detector, 4=\n",
    "hdu_opd.header[\"PUPLSCAL\"]=b*mm_to_m"
   ]
  },
  {
   "cell_type": "code",
   "execution_count": 29,
   "metadata": {
    "collapsed": false,
    "deletable": true,
    "editable": true
   },
   "outputs": [
    {
     "data": {
      "text/plain": [
       "SIMPLE  =                    T / conforms to FITS standard                      \n",
       "BITPIX  =                  -64 / array data type                                \n",
       "NAXIS   =                    2 / number of array dimensions                     \n",
       "NAXIS1  =                 2000                                                  \n",
       "NAXIS2  =                 2000                                                  \n",
       "EXTEND  =                    T                                                  \n",
       "OPTIC   = 'OPD Ronchi 200'                                                      \n",
       "NAME    = 'OPDRonchi200'                                                        \n",
       "SOURCE  = 'Sylvie Dagoret-Campagne'                                             \n",
       "DATE    = 'March 2017'                                                          \n",
       "VERSION = '0.5.1   '                                                            \n",
       "CONTENTS= 'opd     '                                                            \n",
       "BUNIT   = 'meter   '                                                            \n",
       "PLANETYP=                    1                                                  \n",
       "PUPLSCAL=              2.5E-06                                                  "
      ]
     },
     "execution_count": 29,
     "metadata": {},
     "output_type": "execute_result"
    }
   ],
   "source": [
    "hdu_opd.header"
   ]
  },
  {
   "cell_type": "code",
   "execution_count": 30,
   "metadata": {
    "collapsed": false,
    "deletable": true,
    "editable": true
   },
   "outputs": [],
   "source": [
    "hdu_transmission.writeto('trans_ronchi200.fits',clobber=True)"
   ]
  },
  {
   "cell_type": "code",
   "execution_count": 31,
   "metadata": {
    "collapsed": true,
    "deletable": true,
    "editable": true
   },
   "outputs": [],
   "source": [
    "hdu_opd.writeto('opd_ronchi200.fits',clobber=True)"
   ]
  },
  {
   "cell_type": "code",
   "execution_count": 32,
   "metadata": {
    "collapsed": true,
    "deletable": true,
    "editable": true
   },
   "outputs": [],
   "source": [
    "hdulist1 = fits.open('trans_ronchi200.fits')"
   ]
  },
  {
   "cell_type": "code",
   "execution_count": 33,
   "metadata": {
    "collapsed": false,
    "deletable": true,
    "editable": true
   },
   "outputs": [
    {
     "data": {
      "text/plain": [
       "<matplotlib.image.AxesImage at 0x10c39b310>"
      ]
     },
     "execution_count": 33,
     "metadata": {},
     "output_type": "execute_result"
    },
    {
     "data": {
      "image/png": "[encoded data removed]",
      "text/plain": [
       "<matplotlib.figure.Figure at 0x10c2b8d50>"
      ]
     },
     "metadata": {},
     "output_type": "display_data"
    }
   ],
   "source": [
    "plt.imshow(hdulist1[0].data)"
   ]
  },
  {
   "cell_type": "code",
   "execution_count": 34,
   "metadata": {
    "collapsed": true,
    "deletable": true,
    "editable": true
   },
   "outputs": [],
   "source": [
    "hdulist2 = fits.open('opd_ronchi200.fits')"
   ]
  },
  {
   "cell_type": "code",
   "execution_count": 35,
   "metadata": {
    "collapsed": false,
    "deletable": true,
    "editable": true
   },
   "outputs": [
    {
     "data": {
      "text/plain": [
       "<matplotlib.image.AxesImage at 0x10c49e950>"
      ]
     },
     "execution_count": 35,
     "metadata": {},
     "output_type": "execute_result"
    },
    {
     "data": {
      "image/png": "[encoded data removed]",
      "text/plain": [
       "<matplotlib.figure.Figure at 0x10c2fd9d0>"
      ]
     },
     "metadata": {},
     "output_type": "display_data"
    }
   ],
   "source": [
    "plt.imshow(hdulist2[0].data)"
   ]
  },
  {
   "cell_type": "markdown",
   "metadata": {
    "collapsed": true,
    "deletable": true,
    "editable": true
   },
   "source": []
  },
  {
   "cell_type": "code",
   "execution_count": null,
   "metadata": {
    "collapsed": true
   },
   "outputs": [],
   "source": []
  }
 ],
 "metadata": {
  "anaconda-cloud": {},
  "kernelspec": {
   "display_name": "Python [conda env:pyastrophys]",
   "language": "python",
   "name": "conda-env-pyastrophys-py"
  },
  "language_info": {
   "codemirror_mode": {
    "name": "ipython",
    "version": 2
   },
   "file_extension": ".py",
   "mimetype": "text/x-python",
   "name": "python",
   "nbconvert_exporter": "python",
   "pygments_lexer": "ipython2",
   "version": "2.7.12"
  }
 },
 "nbformat": 4,
 "nbformat_minor": 2
}
