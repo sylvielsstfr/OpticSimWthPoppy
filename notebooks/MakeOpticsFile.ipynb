{
 "cells": [
  {
   "cell_type": "markdown",
   "metadata": {},
   "source": [
    "# Make the fits file for the Ronchi Grating\n",
    "============================================================\n",
    "\n",
    "- author : Sylvie Dagoret-Campagne\n",
    "- affiliation : LAL/CNRS\n",
    "- date March 17th 2017"
   ]
  },
  {
   "cell_type": "code",
   "execution_count": 72,
   "metadata": {
    "collapsed": true
   },
   "outputs": [],
   "source": [
    "%matplotlib inline\n",
    "import matplotlib.pyplot as plt\n",
    "import numpy as np\n",
    "import os\n",
    "import matplotlib as mpl\n",
    "from astropy.io import fits"
   ]
  },
  {
   "cell_type": "code",
   "execution_count": 73,
   "metadata": {
    "collapsed": true
   },
   "outputs": [],
   "source": [
    "# to enlarge the sizes\n",
    "params = {'legend.fontsize': 'x-large',\n",
    "          'figure.figsize': (8, 8),\n",
    "         'axes.labelsize': 'x-large',\n",
    "         'axes.titlesize':'x-large',\n",
    "         'xtick.labelsize':'x-large',\n",
    "         'ytick.labelsize':'x-large'}\n",
    "plt.rcParams.update(params)"
   ]
  },
  {
   "cell_type": "code",
   "execution_count": 74,
   "metadata": {
    "collapsed": false
   },
   "outputs": [
    {
     "name": "stdout",
     "output_type": "stream",
     "text": [
      "Populating the interactive namespace from numpy and matplotlib\n"
     ]
    },
    {
     "data": {
      "text/plain": [
       "u'0.5.1'"
      ]
     },
     "execution_count": 74,
     "metadata": {},
     "output_type": "execute_result"
    }
   ],
   "source": [
    "import poppy\n",
    "%pylab inline --no-import-all\n",
    "matplotlib.rcParams['image.origin'] = 'large'\n",
    "poppy.__version__"
   ]
  },
  {
   "cell_type": "code",
   "execution_count": 75,
   "metadata": {
    "collapsed": false
   },
   "outputs": [
    {
     "data": {
      "text/plain": [
       "[<astropy.io.fits.hdu.image.PrimaryHDU object at 0x107a429d0>]"
      ]
     },
     "execution_count": 75,
     "metadata": {},
     "output_type": "execute_result"
    },
    {
     "data": {
      "image/png": "[encoded data removed]",
      "text/plain": [
       "<matplotlib.figure.Figure at 0x1084ca3d0>"
      ]
     },
     "metadata": {},
     "output_type": "display_data"
    }
   ],
   "source": [
    "ap = poppy.CircularAperture(radius=1)      # create a simple circular aperture\n",
    "ap.display(what='both')                    # display both intensity and phase components\n",
    "\n",
    "values = ap.sample(npix=512)               # evaluate on 512 x 512 grid\n",
    "ap.to_fits('test_circle.fits', npix=1024)  # write to disk as a FITS file with higher sampling"
   ]
  },
  {
   "cell_type": "code",
   "execution_count": 76,
   "metadata": {
    "collapsed": true
   },
   "outputs": [],
   "source": [
    "hdulist = fits.open('test_circle.fits')"
   ]
  },
  {
   "cell_type": "code",
   "execution_count": 77,
   "metadata": {
    "collapsed": false
   },
   "outputs": [
    {
     "data": {
      "text/plain": [
       "SIMPLE  =                    T / conforms to FITS standard                      \n",
       "BITPIX  =                  -64 / array data type                                \n",
       "NAXIS   =                    2 / number of array dimensions                     \n",
       "NAXIS1  =                 1024                                                  \n",
       "NAXIS2  =                 1024                                                  \n",
       "EXTEND  =                    T                                                  \n",
       "OPTIC   = 'Circle, radius=1.0 m' / Descriptive name of this optic               \n",
       "NAME    = 'Circle, radius=1.0 m'                                                \n",
       "SOURCE  = 'Computed with POPPY'                                                 \n",
       "VERSION = '0.5.1   '           / software version of POPPY                      \n",
       "CONTENTS= 'amplitude'                                                           \n",
       "PLANETYP=                    0 / 0=unspecified, 1=pupil, 2=image, 3=detector, 4=\n",
       "PUPLSCAL=          0.001953125 / Pupil plane pixel scale in meter/pix           "
      ]
     },
     "execution_count": 77,
     "metadata": {},
     "output_type": "execute_result"
    }
   ],
   "source": [
    "hdulist[0].header"
   ]
  },
  {
   "cell_type": "code",
   "execution_count": 78,
   "metadata": {
    "collapsed": false
   },
   "outputs": [
    {
     "data": {
      "text/plain": [
       "<matplotlib.image.AxesImage at 0x108cbf8d0>"
      ]
     },
     "execution_count": 78,
     "metadata": {},
     "output_type": "execute_result"
    },
    {
     "data": {
      "image/png": "[encoded data removed]",
      "text/plain": [
       "<matplotlib.figure.Figure at 0x107a42d90>"
      ]
     },
     "metadata": {},
     "output_type": "display_data"
    }
   ],
   "source": [
    "plt.imshow(hdulist[0].data,cmap=\"Greys\")"
   ]
  },
  {
   "cell_type": "markdown",
   "metadata": {},
   "source": [
    "# Generate transmission and opd"
   ]
  },
  {
   "cell_type": "code",
   "execution_count": 79,
   "metadata": {
    "collapsed": true
   },
   "outputs": [],
   "source": [
    "mm_to_m=1e-3"
   ]
  },
  {
   "cell_type": "code",
   "execution_count": 80,
   "metadata": {
    "collapsed": true
   },
   "outputs": [],
   "source": [
    "R200=200. # 200 lines per mm"
   ]
  },
  {
   "cell_type": "code",
   "execution_count": 81,
   "metadata": {
    "collapsed": true
   },
   "outputs": [],
   "source": [
    "grating_size=4 # mm"
   ]
  },
  {
   "cell_type": "code",
   "execution_count": 82,
   "metadata": {
    "collapsed": true
   },
   "outputs": [],
   "source": [
    "a=1./R200  # in mm : pad line-to line distance 5 microns"
   ]
  },
  {
   "cell_type": "code",
   "execution_count": 83,
   "metadata": {
    "collapsed": true
   },
   "outputs": [],
   "source": [
    "b=a/2  # width of grooves : 2.5 microns"
   ]
  },
  {
   "cell_type": "code",
   "execution_count": 84,
   "metadata": {
    "collapsed": true
   },
   "outputs": [],
   "source": [
    "Nlines=R200*grating_size  # 800 lines in beam"
   ]
  },
  {
   "cell_type": "code",
   "execution_count": 87,
   "metadata": {
    "collapsed": false
   },
   "outputs": [],
   "source": [
    "ARRAY_SIZE=int(Nlines*2)"
   ]
  },
  {
   "cell_type": "code",
   "execution_count": 88,
   "metadata": {
    "collapsed": false
   },
   "outputs": [],
   "source": [
    "transmission=np.zeros([ARRAY_SIZE,ARRAY_SIZE])\n",
    "opd=np.zeros([ARRAY_SIZE,ARRAY_SIZE])"
   ]
  },
  {
   "cell_type": "code",
   "execution_count": 89,
   "metadata": {
    "collapsed": true
   },
   "outputs": [],
   "source": [
    "even_indexes=all_indexes=np.arange(ARRAY_SIZE)"
   ]
  },
  {
   "cell_type": "code",
   "execution_count": 90,
   "metadata": {
    "collapsed": false
   },
   "outputs": [],
   "source": [
    "even_indexes=np.where(all_indexes%2==0)"
   ]
  },
  {
   "cell_type": "code",
   "execution_count": 91,
   "metadata": {
    "collapsed": true
   },
   "outputs": [],
   "source": [
    "odd_indexes=np.where(all_indexes%2==1)"
   ]
  },
  {
   "cell_type": "code",
   "execution_count": 92,
   "metadata": {
    "collapsed": true
   },
   "outputs": [],
   "source": [
    "transmission[:,even_indexes]=1\n",
    "transmission[:,odd_indexes]=0"
   ]
  },
  {
   "cell_type": "code",
   "execution_count": 93,
   "metadata": {
    "collapsed": false
   },
   "outputs": [
    {
     "data": {
      "text/plain": [
       "<matplotlib.image.AxesImage at 0x1086fc250>"
      ]
     },
     "execution_count": 93,
     "metadata": {},
     "output_type": "execute_result"
    },
    {
     "data": {
      "image/png": "[encoded data removed]",
      "text/plain": [
       "<matplotlib.figure.Figure at 0x1092a4ed0>"
      ]
     },
     "metadata": {},
     "output_type": "display_data"
    }
   ],
   "source": [
    "plt.imshow(transmission,cmap=\"Greys\")"
   ]
  },
  {
   "cell_type": "code",
   "execution_count": 94,
   "metadata": {
    "collapsed": false
   },
   "outputs": [
    {
     "data": {
      "text/plain": [
       "<matplotlib.image.AxesImage at 0x108e0e0d0>"
      ]
     },
     "execution_count": 94,
     "metadata": {},
     "output_type": "execute_result"
    },
    {
     "data": {
      "image/png": "[encoded data removed]",
      "text/plain": [
       "<matplotlib.figure.Figure at 0x107a78c90>"
      ]
     },
     "metadata": {},
     "output_type": "display_data"
    }
   ],
   "source": [
    "plt.imshow(opd,cmap=\"Greys\")"
   ]
  },
  {
   "cell_type": "code",
   "execution_count": 95,
   "metadata": {
    "collapsed": true
   },
   "outputs": [],
   "source": [
    "hdu_transmission = fits.PrimaryHDU(transmission)"
   ]
  },
  {
   "cell_type": "code",
   "execution_count": 96,
   "metadata": {
    "collapsed": false
   },
   "outputs": [],
   "source": [
    "hdu_transmission.header[\"OPTIC\"]=\"transmission Ronchi 200\"\n",
    "hdu_transmission.header[\"NAME\"]= \"TransRonchi200\"\n",
    "hdu_transmission.header[\"SOURCE\"]= \"Sylvie Dagoret-Campagne\"\n",
    "hdu_transmission.header[\"DATE\"]= \"March 2017\"\n",
    "hdu_transmission.header[\"VERSION\"]=poppy.__version__\n",
    "hdu_transmission.header[\"CONTENTS\"]= 'transmission'                                                           \n",
    "hdu_transmission.header[\"PLANETYP\"]=1 #  1=pupil, 2=image, 3=detector, 4=\n",
    "hdu_transmission.header[\"PUPLSCAL\"]=b*mm_to_m"
   ]
  },
  {
   "cell_type": "code",
   "execution_count": 97,
   "metadata": {
    "collapsed": false
   },
   "outputs": [
    {
     "data": {
      "text/plain": [
       "SIMPLE  =                    T / conforms to FITS standard                      \n",
       "BITPIX  =                  -64 / array data type                                \n",
       "NAXIS   =                    2 / number of array dimensions                     \n",
       "NAXIS1  =                 1600                                                  \n",
       "NAXIS2  =                 1600                                                  \n",
       "EXTEND  =                    T                                                  \n",
       "OPTIC   = 'transmission Ronchi 200'                                             \n",
       "NAME    = 'TransRonchi200'                                                      \n",
       "SOURCE  = 'Sylvie Dagoret-Campagne'                                             \n",
       "DATE    = 'March 2017'                                                          \n",
       "VERSION = '0.5.1   '                                                            \n",
       "CONTENTS= 'transmission'                                                        \n",
       "PLANETYP=                    1                                                  \n",
       "PUPLSCAL=              2.5E-06                                                  "
      ]
     },
     "execution_count": 97,
     "metadata": {},
     "output_type": "execute_result"
    }
   ],
   "source": [
    "hdu_transmission.header"
   ]
  },
  {
   "cell_type": "code",
   "execution_count": 98,
   "metadata": {
    "collapsed": true
   },
   "outputs": [],
   "source": [
    "hdu_opd=fits.PrimaryHDU(opd)"
   ]
  },
  {
   "cell_type": "code",
   "execution_count": 99,
   "metadata": {
    "collapsed": true
   },
   "outputs": [],
   "source": [
    "hdu_opd.header[\"OPTIC\"]=\"OPD Ronchi 200\"\n",
    "hdu_opd.header[\"NAME\"]= \"OPDRonchi200\"\n",
    "hdu_opd.header[\"SOURCE\"]= \"Sylvie Dagoret-Campagne\"\n",
    "hdu_opd.header[\"DATE\"]= \"March 2017\"\n",
    "hdu_opd.header[\"VERSION\"]=poppy.__version__\n",
    "hdu_opd.header[\"CONTENTS\"]= 'opd'    \n",
    "hdu_opd.header[\"BUNIT\"]='meter'\n",
    "hdu_opd.header[\"PLANETYP\"]=1 #  1=pupil, 2=image, 3=detector, 4=\n",
    "hdu_opd.header[\"PUPLSCAL\"]=b*mm_to_m"
   ]
  },
  {
   "cell_type": "code",
   "execution_count": 100,
   "metadata": {
    "collapsed": false
   },
   "outputs": [
    {
     "data": {
      "text/plain": [
       "SIMPLE  =                    T / conforms to FITS standard                      \n",
       "BITPIX  =                  -64 / array data type                                \n",
       "NAXIS   =                    2 / number of array dimensions                     \n",
       "NAXIS1  =                 1600                                                  \n",
       "NAXIS2  =                 1600                                                  \n",
       "EXTEND  =                    T                                                  \n",
       "OPTIC   = 'OPD Ronchi 200'                                                      \n",
       "NAME    = 'OPDRonchi200'                                                        \n",
       "SOURCE  = 'Sylvie Dagoret-Campagne'                                             \n",
       "DATE    = 'March 2017'                                                          \n",
       "VERSION = '0.5.1   '                                                            \n",
       "CONTENTS= 'opd     '                                                            \n",
       "BUNIT   = 'meter   '                                                            \n",
       "PLANETYP=                    1                                                  \n",
       "PUPLSCAL=              2.5E-06                                                  "
      ]
     },
     "execution_count": 100,
     "metadata": {},
     "output_type": "execute_result"
    }
   ],
   "source": [
    "hdu_opd.header"
   ]
  },
  {
   "cell_type": "code",
   "execution_count": 101,
   "metadata": {
    "collapsed": false
   },
   "outputs": [],
   "source": [
    "hdu_transmission.writeto('trans_ronchi200.fits',clobber=True)"
   ]
  },
  {
   "cell_type": "code",
   "execution_count": 102,
   "metadata": {
    "collapsed": true
   },
   "outputs": [],
   "source": [
    "hdu_opd.writeto('opd_ronchi200.fits',clobber=True)"
   ]
  },
  {
   "cell_type": "code",
   "execution_count": 104,
   "metadata": {
    "collapsed": true
   },
   "outputs": [],
   "source": [
    "hdulist1 = fits.open('trans_ronchi200.fits')"
   ]
  },
  {
   "cell_type": "code",
   "execution_count": 106,
   "metadata": {
    "collapsed": false
   },
   "outputs": [
    {
     "data": {
      "text/plain": [
       "<matplotlib.image.AxesImage at 0x107aaa210>"
      ]
     },
     "execution_count": 106,
     "metadata": {},
     "output_type": "execute_result"
    },
    {
     "data": {
      "image/png": "[encoded data removed]",
      "text/plain": [
       "<matplotlib.figure.Figure at 0x108e0e5d0>"
      ]
     },
     "metadata": {},
     "output_type": "display_data"
    }
   ],
   "source": [
    "plt.imshow(hdulist1[0].data)"
   ]
  },
  {
   "cell_type": "code",
   "execution_count": 107,
   "metadata": {
    "collapsed": true
   },
   "outputs": [],
   "source": [
    "hdulist2 = fits.open('opd_ronchi200.fits')"
   ]
  },
  {
   "cell_type": "code",
   "execution_count": 108,
   "metadata": {
    "collapsed": false
   },
   "outputs": [
    {
     "data": {
      "text/plain": [
       "<matplotlib.image.AxesImage at 0x107636390>"
      ]
     },
     "execution_count": 108,
     "metadata": {},
     "output_type": "execute_result"
    },
    {
     "data": {
      "image/png": "[encoded data removed]",
      "text/plain": [
       "<matplotlib.figure.Figure at 0x1085baa90>"
      ]
     },
     "metadata": {},
     "output_type": "display_data"
    }
   ],
   "source": [
    "plt.imshow(hdulist2[0].data)"
   ]
  },
  {
   "cell_type": "code",
   "execution_count": null,
   "metadata": {
    "collapsed": true
   },
   "outputs": [],
   "source": []
  }
 ],
 "metadata": {
  "anaconda-cloud": {},
  "kernelspec": {
   "display_name": "Python [conda env:pyastrophys]",
   "language": "python",
   "name": "conda-env-pyastrophys-py"
  },
  "language_info": {
   "codemirror_mode": {
    "name": "ipython",
    "version": 2
   },
   "file_extension": ".py",
   "mimetype": "text/x-python",
   "name": "python",
   "nbconvert_exporter": "python",
   "pygments_lexer": "ipython2",
   "version": "2.7.12"
  }
 },
 "nbformat": 4,
 "nbformat_minor": 2
}
